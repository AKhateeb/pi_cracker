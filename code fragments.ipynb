{
 "cells": [
  {
   "cell_type": "code",
   "execution_count": 21,
   "metadata": {
    "collapsed": false
   },
   "outputs": [
    {
     "ename": "IndentationError",
     "evalue": "expected an indented block (<ipython-input-21-63b67de1cc36>, line 16)",
     "output_type": "error",
     "traceback": [
      "\u001b[0;36m  File \u001b[0;32m\"<ipython-input-21-63b67de1cc36>\"\u001b[0;36m, line \u001b[0;32m16\u001b[0m\n\u001b[0;31m    f.write(cap+)\u001b[0m\n\u001b[0m    ^\u001b[0m\n\u001b[0;31mIndentationError\u001b[0m\u001b[0;31m:\u001b[0m expected an indented block\n"
     ]
    }
   ],
   "source": [
    "\n",
    "all_symbols = list(\"/*-+.!@#$%&*()_=+\")\n",
    "symbols = ['.','@']\n",
    "fixed_pattern = \"3010\"\n",
    "max_pass_length = 20\n",
    "min_pass_length = 7\n",
    "# -------------- password generator ------------------\n",
    "with open(\"pass.lst\", 'wb') as f:\n",
    "    for i in range(min_pass_length,max_pass_length+1):\n",
    "        for cap in capitals:\n",
    "            for small in smalls:\n",
    "                for sym in symbols:\n",
    "            f.write(cap+)\n",
    "    "
   ]
  },
  {
   "cell_type": "code",
   "execution_count": 451,
   "metadata": {
    "collapsed": true
   },
   "outputs": [],
   "source": [
    "from string import ascii_lowercase, ascii_uppercase, digits\n",
    "from itertools import product\n",
    "from pprint import pprint\n",
    "\n",
    "symbols = \".@\"\n",
    "\n",
    "key_map = {\n",
    "    's_letters':ascii_lowercase,\n",
    "    'u_letters':ascii_uppercase,\n",
    "    'digits': digits,\n",
    "    'symbols': symbols\n",
    "}\n",
    "all_pass = []"
   ]
  },
  {
   "cell_type": "code",
   "execution_count": 494,
   "metadata": {
    "collapsed": false
   },
   "outputs": [],
   "source": [
    "# Using list ---> 10000 loops, best of 3: 147 µs per loop\n",
    "# Using set ---> 10000 loops, best of 3: 181 µs per loop\n",
    "\n",
    "# After adding string conversion ---> 1000 loops, best of 3: 283 µs per loop\n",
    "\n",
    "count = 0\n",
    "def get_password():\n",
    "    first_key = 'u_letters'\n",
    "    needed_keys = ['digits', 'symbols', 's_letters']\n",
    "    for n in range(6,8):\n",
    "        for tup in product(needed_keys,repeat=n): # to repreat product nth time\n",
    "            for p in product(key_map[first_key], *(key_map[key] for key in tup)):\n",
    "                yield \"\".join(p)\n",
    "        "
   ]
  },
  {
   "cell_type": "code",
   "execution_count": 495,
   "metadata": {
    "collapsed": false
   },
   "outputs": [],
   "source": [
    "password = get_password()"
   ]
  },
  {
   "cell_type": "code",
   "execution_count": 496,
   "metadata": {
    "collapsed": false
   },
   "outputs": [],
   "source": [
    "p = product(*tuple(key_map[key] for key in ['digits','digits']))"
   ]
  },
  {
   "cell_type": "code",
   "execution_count": 515,
   "metadata": {
    "collapsed": false
   },
   "outputs": [
    {
     "data": {
      "text/plain": [
       "'A000018'"
      ]
     },
     "execution_count": 515,
     "metadata": {},
     "output_type": "execute_result"
    }
   ],
   "source": [
    "password.next()"
   ]
  }
 ],
 "metadata": {
  "anaconda-cloud": {},
  "kernelspec": {
   "display_name": "Python [conda root]",
   "language": "python",
   "name": "conda-root-py"
  },
  "language_info": {
   "codemirror_mode": {
    "name": "ipython",
    "version": 2
   },
   "file_extension": ".py",
   "mimetype": "text/x-python",
   "name": "python",
   "nbconvert_exporter": "python",
   "pygments_lexer": "ipython2",
   "version": "2.7.12"
  }
 },
 "nbformat": 4,
 "nbformat_minor": 1
}
