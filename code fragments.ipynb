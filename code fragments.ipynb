{
 "cells": [
  {
   "cell_type": "code",
   "execution_count": 11,
   "metadata": {
    "collapsed": false
   },
   "outputs": [],
   "source": [
    "\n",
    "all_symbols = list(u\"`<>{}[]/*-+.!@#$%&*()_=+\")\n",
    "symbols = ['.','@']\n",
    "fixed_pattern = \"3010\"\n",
    "max_pass_length = 20\n",
    "min_pass_length = 7\n",
    "# -------------- password generator ------------------\n",
    "# with open(\"pass.lst\", 'wb') as f:\n",
    "#     for i in range(min_pass_length,max_pass_length+1):\n",
    "#         for cap in capitals:\n",
    "#             for small in smalls:\n",
    "#                 for sym in symbols:\n",
    "# #             f.write(cap+)\n",
    "#                     pass\n",
    "    "
   ]
  },
  {
   "cell_type": "code",
   "execution_count": 12,
   "metadata": {
    "collapsed": true
   },
   "outputs": [],
   "source": [
    "from string import ascii_lowercase, ascii_uppercase, digits\n",
    "from itertools import product, islice\n",
    "from pprint import pprint\n",
    "\n",
    "symbols = \".@\"\n",
    "\n",
    "key_map = {\n",
    "    's_letters':ascii_lowercase,\n",
    "    'u_letters':ascii_uppercase,\n",
    "    'digits': digits,\n",
    "    'symbols': symbols\n",
    "}\n",
    "all_pass = []"
   ]
  },
  {
   "cell_type": "code",
   "execution_count": 13,
   "metadata": {
    "collapsed": false
   },
   "outputs": [],
   "source": [
    "# Using list ---> 10000 loops, best of 3: 147 µs per loop\n",
    "# Using set ---> 10000 loops, best of 3: 181 µs per loop\n",
    "\n",
    "# After adding string conversion ---> 1000 loops, best of 3: 283 µs per loop\n",
    "\n",
    "def get_password(l_bound=6, u_bound=20):\n",
    "    first_key = 'u_letters'\n",
    "    needed_keys = ['digits', 'symbols', 's_letters']\n",
    "    with_capital_letter = False\n",
    "    pwd = \"\"\n",
    "    for n in range(l_bound, u_bound-3): # u_bound - 4 (for \"3010\") + 1 (range doesn't access last num)\n",
    "        for tup in product(needed_keys,repeat=n): # to repreat product nth time\n",
    "            for p in product(*(key_map[key] for key in tup)):\n",
    "                pwd = \"\".join(p) + \"3010\"\n",
    "                for extra in key_map[first_key]:\n",
    "                    yield extra + pwd\n",
    "                yield pwd\n",
    "                \n",
    "password = get_password()"
   ]
  },
  {
   "cell_type": "code",
   "execution_count": 14,
   "metadata": {
    "collapsed": false
   },
   "outputs": [
    {
     "data": {
      "text/plain": [
       "'0000003010'"
      ]
     },
     "execution_count": 14,
     "metadata": {},
     "output_type": "execute_result"
    }
   ],
   "source": [
    "islice(password, 26, 27).next()"
   ]
  },
  {
   "cell_type": "code",
   "execution_count": 15,
   "metadata": {
    "collapsed": false
   },
   "outputs": [
    {
     "data": {
      "text/plain": [
       "'A0000013010'"
      ]
     },
     "execution_count": 15,
     "metadata": {},
     "output_type": "execute_result"
    }
   ],
   "source": [
    "# 'Z0370373010'\n",
    "password.next()"
   ]
  },
  {
   "cell_type": "code",
   "execution_count": 16,
   "metadata": {
    "collapsed": false
   },
   "outputs": [],
   "source": [
    "class PwdGenerator():\n",
    "\n",
    "  def __init__(self, *args, **kwargs):\n",
    "    self.l_bound = 6\n",
    "    self.u_bound = 20\n",
    "    self.key_map = {\n",
    "        'small_letters':ascii_lowercase,\n",
    "        'capital_letters':ascii_uppercase,\n",
    "        'digits': digits,\n",
    "        'symbols': u\"`<>{}[]/*-+.!@#$%&*()_=+;:]'\\\"\"\n",
    "    }\n",
    "    # mapped using key_map\n",
    "    self.prefix_key = None \n",
    "    self.suffix_key = None \n",
    "    \n",
    "    self.prefix_key_len = 0\n",
    "    self.suffix_key_len = 0\n",
    "    \n",
    "    self.prefix_fixed = \"\"\n",
    "    self.suffix_fixed = \"\"\n",
    "    \n",
    "    self.suffix_part_confirmed = False\n",
    "    self.prefix_part_confirmed = False\n",
    "        \n",
    "    self.suffix_key_confirmed = False\n",
    "    self.prefix_key_confirmed = False\n",
    "    \n",
    "    self.needed_keys = []\n",
    "\n",
    "    self.finished = False\n",
    "    self.last_pwd = None\n",
    "    \n",
    "    self.generator_count = 0\n",
    "\n",
    "  def init(self, data):\n",
    "    \"\"\" set attributes due to your need \"\"\"\n",
    "    self.suffix_fixed = \"3010\"\n",
    "    self.prefix_key = \"capital_letters\" # data.get('prefix_key', None)\n",
    "    self.prefix_key_len = 1\n",
    "    self.prefix_key_confirmed = False\n",
    "    self.suffix_part_confirmed = True\n",
    "    \n",
    "    self.needed_keys = ['digits', 'symbols', 'small_letters']\n",
    "    self.key_map['symbols'] = \".@\"\n",
    "    self.generator = self.generator_func()\n",
    "  \n",
    "\n",
    "  def generator_func(self):\n",
    "    \"\"\" password generator \"\"\"\n",
    "    pwd = {\n",
    "      'prefix' : self.prefix_fixed,\n",
    "      'body': '',\n",
    "      'suffix': self.suffix_fixed\n",
    "    }\n",
    "    length_part = len(self.prefix_fixed) * self.prefix_part_confirmed \\\n",
    "                + len(self.suffix_fixed) * self.suffix_part_confirmed \\\n",
    "                + self.prefix_key_len * self.prefix_key_confirmed \\\n",
    "                + self.suffix_key_len * self.suffix_key_confirmed\n",
    "    for n in range(self.l_bound - length_part, self.u_bound + 1): # + 1 (range doesn't access last num)\n",
    "        for tup in product(self.needed_keys,repeat=n): # to repreat product's input nth time\n",
    "            for p in product(*(self.key_map[key] for key in tup)):\n",
    "                pwd['body'] = \"\".join(p)\n",
    "                if self.prefix_key in self.key_map.keys():\n",
    "                  for extra in product(self.key_map[self.prefix_key], repeat=self.prefix_key_len):\n",
    "                      pwd['prefix'] = self.prefix_fixed + \"\".join(extra)\n",
    "                      yield pwd['prefix'] + pwd['body'] + pwd['suffix']\n",
    "                \n",
    "                if not self.prefix_part_confirmed:\n",
    "                    yield pwd['body'] + pwd['suffix']\n",
    "                \n",
    "                if self.suffix_key in self.key_map.keys():\n",
    "                  for extra in product(self.key_map[self.suffix_key], repeat=self.suffix_key_len):\n",
    "                      pwd['suffix'] = \"\".join(extra) + self.suffix_fixed\n",
    "                      yield pwd['prefix'] + pwd['body'] + pwd['suffix']\n",
    "\n",
    "                if not self.suffix_part_confirmed:\n",
    "                    yield pwd['prefix'] + pwd['body']\n",
    "  \n",
    "  def get(self):\n",
    "    \"\"\" return next iteration in generator \"\"\"\n",
    "    try:\n",
    "        pwd = self.generator.next()\n",
    "        while self.last_pwd == pwd:\n",
    "            pwd = self.generator.next()\n",
    "        self.last_pwd = pwd\n",
    "        self.generator_count += 1\n",
    "        return pwd\n",
    "    except StopIteration:\n",
    "        return self.generator_end()\n",
    "    finally:\n",
    "        print(\"[{}] --> {}\".format(self.generator_count, self.last_pwd))\n",
    "  \n",
    "  def skip(self, n):\n",
    "    \"\"\" skip nth iterations in generator and return next iteration \"\"\"\n",
    "    previous_count = self.generator_count\n",
    "    try:\n",
    "        pwd = islice(self.generator, n, n+1).next() \n",
    "        self.last_pwd = pwd\n",
    "        self.generator_count += n \n",
    "        return pwd\n",
    "    except StopIteration as ex:\n",
    "        print(ex)\n",
    "        return self.generator_end()\n",
    "    finally:\n",
    "        print(\"[{0}] --> [{1}]: {2}\".format(previous_count, self.generator_count, self.last_pwd))\n",
    "\n",
    "  def reset(self):\n",
    "     self.generator_count = 0\n",
    "     self.generator = self.generator_func()   \n",
    "\n",
    "  def generator_end(self):\n",
    "    self.finished = True\n",
    "    return \"\" # in this case empty_string is better than None\n",
    "\n",
    "p = PwdGenerator()\n",
    "p.init({})"
   ]
  },
  {
   "cell_type": "code",
   "execution_count": 17,
   "metadata": {
    "collapsed": false
   },
   "outputs": [
    {
     "name": "stdout",
     "output_type": "stream",
     "text": [
      "[0] --> [209]: U073010\n"
     ]
    },
    {
     "data": {
      "text/plain": [
       "'U073010'"
      ]
     },
     "execution_count": 17,
     "metadata": {},
     "output_type": "execute_result"
    }
   ],
   "source": [
    "p.skip(209)"
   ]
  },
  {
   "cell_type": "code",
   "execution_count": 18,
   "metadata": {
    "collapsed": false
   },
   "outputs": [
    {
     "name": "stdout",
     "output_type": "stream",
     "text": [
      "[210] --> V073010\n"
     ]
    },
    {
     "data": {
      "text/plain": [
       "'V073010'"
      ]
     },
     "execution_count": 18,
     "metadata": {},
     "output_type": "execute_result"
    }
   ],
   "source": [
    "p.get()"
   ]
  },
  {
   "cell_type": "code",
   "execution_count": 19,
   "metadata": {
    "collapsed": false,
    "scrolled": true
   },
   "outputs": [
    {
     "data": {
      "text/plain": [
       "4"
      ]
     },
     "execution_count": 19,
     "metadata": {},
     "output_type": "execute_result"
    }
   ],
   "source": [
    "from random import randint\n",
    "randint(1,5)"
   ]
  },
  {
   "cell_type": "code",
   "execution_count": 2,
   "metadata": {
    "collapsed": false
   },
   "outputs": [
    {
     "name": "stdout",
     "output_type": "stream",
     "text": [
      "Startedtest\n",
      "\n",
      "Finished\n"
     ]
    }
   ],
   "source": [
    "from threading import Thread\n",
    "from time import sleep\n",
    "def dd():\n",
    "    print(\"Started\")\n",
    "    sleep(1)\n",
    "    print(\"Finished\")\n",
    "    \n",
    "t1 = Thread(name='test', target=dd)\n",
    "t1.start()\n",
    "print(t1.name)"
   ]
  }
 ],
 "metadata": {
  "anaconda-cloud": {},
  "kernelspec": {
   "display_name": "Python [conda root]",
   "language": "python",
   "name": "conda-root-py"
  },
  "language_info": {
   "codemirror_mode": {
    "name": "ipython",
    "version": 2
   },
   "file_extension": ".py",
   "mimetype": "text/x-python",
   "name": "python",
   "nbconvert_exporter": "python",
   "pygments_lexer": "ipython2",
   "version": "2.7.12"
  }
 },
 "nbformat": 4,
 "nbformat_minor": 1
}
