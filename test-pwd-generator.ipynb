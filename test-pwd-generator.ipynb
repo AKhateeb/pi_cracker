{
 "cells": [
  {
   "cell_type": "code",
   "execution_count": 21,
   "metadata": {},
   "outputs": [],
   "source": []
  },
  {
   "cell_type": "code",
   "execution_count": 22,
   "metadata": {},
   "outputs": [],
   "source": [
    "from instagram.password_generator import PwdGenerator\n",
    "pwd_gen = PwdGenerator()\n",
    "data = {\n",
    "  \"suffix_fixed\": \"3010\",\n",
    "  \"prefix_key\": \"capital_letters\",\n",
    "  \"prefix_key_len\": 1,\n",
    "  \"prefix_key_confirmed\": True,\n",
    "  \"suffix_part_confirmed\": True, # other attributes are kept False\n",
    "  \"needed_keys\": ['digits', 'symbols', 'small_letters'],\n",
    "  \"key_map\": {'symbols': \".@\"},\n",
    "  \"generator_function\": read_file(\"test_pwd.lst\"),\n",
    "}\n",
    "pwd_gen.init(data)"
   ]
  },
  {
   "cell_type": "code",
   "execution_count": 23,
   "metadata": {},
   "outputs": [
    {
     "name": "stdout",
     "output_type": "stream",
     "text": [
      "fbgnhmj\n",
      "vfgnjmhnbfs\n",
      "8521485489547854785\n",
      "sdfghgf5d85456475\n",
      "dvfbgnh\n",
      "asdfgh\n",
      "sdfghjkhgf\n",
      "aswed0000\n",
      "aswed00001111\n",
      "vbnhmgjhng\n",
      "afghmjgnf\n",
      "fdghjku\n",
      "aswed0000ASWED1111\n"
     ]
    }
   ],
   "source": [
    "count = 0\n",
    "for x in pwd_gen.generator:\n",
    "    try:\n",
    "        print(x)\n",
    "    except:\n",
    "        print(\"\\n\", \"--+\"*4)\n",
    "        break"
   ]
  },
  {
   "cell_type": "code",
   "execution_count": 11,
   "metadata": {},
   "outputs": [],
   "source": [
    "# for i in range(10): # 10 * 50 = 500\n",
    "#     pwd_gen.fill_buffer()\n",
    "#     with open('test_pass.lst', 'a') as f:\n",
    "#         f.write('\\n'.join(pwd_gen.pwd_buffer))\n",
    "#         pwd_gen.pwd_buffer.clear()\n",
    "#         f.write(\"\\n\")"
   ]
  },
  {
   "cell_type": "code",
   "execution_count": 5,
   "metadata": {},
   "outputs": [],
   "source": [
    "from bs4 import BeautifulSoup\n",
    "import json, random, re, requests\n",
    "\n",
    "BASE_URL = 'https://www.instagram.com/accounts/login/'\n",
    "LOGIN_URL = BASE_URL + 'ajax/'\n",
    "\n",
    "USERNAME = \"cfvbnhfgbfdgnfh\"\n",
    "PASSWD = \"dfghnjmnhgfd\""
   ]
  },
  {
   "cell_type": "code",
   "execution_count": 6,
   "metadata": {},
   "outputs": [
    {
     "data": {
      "text/plain": [
       "{'authenticated': False, 'user': False, 'status': 'ok'}"
      ]
     },
     "execution_count": 6,
     "metadata": {},
     "output_type": "execute_result"
    }
   ],
   "source": [
    "headers_list = [\n",
    "        \"Mozilla/5.0 (Windows NT 5.1; rv:41.0) Gecko/20100101\"\\\n",
    "        \" Firefox/41.0\",\n",
    "        \"Mozilla/5.0 (Macintosh; Intel Mac OS X 10_11_2)\"\\\n",
    "        \" AppleWebKit/601.3.9 (KHTML, like Gecko) Version/9.0.2\"\\\n",
    "        \" Safari/601.3.9\",\n",
    "        \"Mozilla/5.0 (X11; Ubuntu; Linux x86_64; rv:15.0)\"\\\n",
    "        \" Gecko/20100101 Firefox/15.0.1\",\n",
    "        \"Mozilla/5.0 (Windows NT 10.0; Win64; x64) AppleWebKit/537.36\"\\\n",
    "        \" (KHTML, like Gecko) Chrome/42.0.2311.135 Safari/537.36\"\\\n",
    "        \" Edge/12.246\"\n",
    "        ]\n",
    "\n",
    "USER_AGENT = headers_list[random.randrange(0,4)]\n",
    "\n",
    "session = requests.Session()\n",
    "session.headers = {'user-agent': USER_AGENT}\n",
    "session.headers.update({'Referer': BASE_URL})    \n",
    "req = session.get(BASE_URL)    \n",
    "soup = BeautifulSoup(req.content, 'html.parser')    \n",
    "body = soup.find('body')\n",
    "\n",
    "pattern = re.compile('window._sharedData')\n",
    "script = body.find(\"script\", text=pattern)\n",
    "\n",
    "script = script.get_text().replace('window._sharedData = ', '')[:-1]\n",
    "data = json.loads(script)\n",
    "\n",
    "csrf = data['config'].get('csrf_token')\n",
    "login_data = {'username': USERNAME, 'password': PASSWD}\n",
    "session.headers.update({'X-CSRFToken': csrf})\n",
    "login = session.post(LOGIN_URL, data=login_data, allow_redirects=True)\n",
    "json.loads(\"\".join(map(chr, login.content)))"
   ]
  }
 ],
 "metadata": {
  "kernelspec": {
   "display_name": "Python 3",
   "language": "python",
   "name": "python3"
  },
  "language_info": {
   "codemirror_mode": {
    "name": "ipython",
    "version": 3
   },
   "file_extension": ".py",
   "mimetype": "text/x-python",
   "name": "python",
   "nbconvert_exporter": "python",
   "pygments_lexer": "ipython3",
   "version": "3.6.7rc1"
  }
 },
 "nbformat": 4,
 "nbformat_minor": 2
}
